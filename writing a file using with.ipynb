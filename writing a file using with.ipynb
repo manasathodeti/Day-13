{
 "cells": [
  {
   "cell_type": "code",
   "execution_count": 1,
   "id": "18f6f734-58bd-44db-94ac-16670d325c0e",
   "metadata": {},
   "outputs": [],
   "source": [
    "with open('root.txt','w') as tm:\n",
    "    tm.write(\"Hello Thodeti Manasa.....How are you\")"
   ]
  }
 ],
 "metadata": {
  "kernelspec": {
   "display_name": "Python 3 (ipykernel)",
   "language": "python",
   "name": "python3"
  },
  "language_info": {
   "codemirror_mode": {
    "name": "ipython",
    "version": 3
   },
   "file_extension": ".py",
   "mimetype": "text/x-python",
   "name": "python",
   "nbconvert_exporter": "python",
   "pygments_lexer": "ipython3",
   "version": "3.12.7"
  }
 },
 "nbformat": 4,
 "nbformat_minor": 5
}
