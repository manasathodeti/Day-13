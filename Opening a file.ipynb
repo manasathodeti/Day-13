{
 "cells": [
  {
   "cell_type": "code",
   "execution_count": 13,
   "id": "2c485318-5201-41e7-bf5a-2233a27792f7",
   "metadata": {},
   "outputs": [
    {
     "name": "stdout",
     "output_type": "stream",
     "text": [
      "File data in Manasa.txt: Manasa\n",
      "Thodeti\n"
     ]
    }
   ],
   "source": [
    "file= open('Manasa.txt','r')\n",
    "data=file.read()\n",
    "print(\"File data in Manasa.txt:\",data)\n",
    "file.close()"
   ]
  }
 ],
 "metadata": {
  "kernelspec": {
   "display_name": "Python 3 (ipykernel)",
   "language": "python",
   "name": "python3"
  },
  "language_info": {
   "codemirror_mode": {
    "name": "ipython",
    "version": 3
   },
   "file_extension": ".py",
   "mimetype": "text/x-python",
   "name": "python",
   "nbconvert_exporter": "python",
   "pygments_lexer": "ipython3",
   "version": "3.12.7"
  }
 },
 "nbformat": 4,
 "nbformat_minor": 5
}
