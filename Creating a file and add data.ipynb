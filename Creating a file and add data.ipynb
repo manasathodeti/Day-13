{
 "cells": [
  {
   "cell_type": "code",
   "execution_count": 17,
   "id": "473d3387-5a83-40cf-88c9-fb85d3326192",
   "metadata": {},
   "outputs": [],
   "source": [
    "file= open('write.txt','w')\n",
    "file.write(\"there are plenty of things..\")\n",
    "file.close()"
   ]
  },
  {
   "cell_type": "code",
   "execution_count": 19,
   "id": "cf7b6e35-5ecd-45c2-96c4-298fe147cf7c",
   "metadata": {},
   "outputs": [],
   "source": [
    "file=open('write.txt','a')\n",
    "file.write(\"you can pic one of them\")\n",
    "file.close()"
   ]
  }
 ],
 "metadata": {
  "kernelspec": {
   "display_name": "Python 3 (ipykernel)",
   "language": "python",
   "name": "python3"
  },
  "language_info": {
   "codemirror_mode": {
    "name": "ipython",
    "version": 3
   },
   "file_extension": ".py",
   "mimetype": "text/x-python",
   "name": "python",
   "nbconvert_exporter": "python",
   "pygments_lexer": "ipython3",
   "version": "3.12.7"
  }
 },
 "nbformat": 4,
 "nbformat_minor": 5
}
